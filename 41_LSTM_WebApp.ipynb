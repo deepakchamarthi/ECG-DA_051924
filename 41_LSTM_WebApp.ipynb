{
 "cells": [
  {
   "cell_type": "markdown",
   "id": "113d8e0a-6ab3-4a9e-9827-0b5a290fd9fa",
   "metadata": {},
   "source": [
    "This will launch the Streamlit web application, which can be accessed at http://localhost:8501 in your web browser. You can upload an ECG image, and the application will display the original and processed images along with the predicted class"
   ]
  },
  {
   "cell_type": "markdown",
   "id": "5bc2dfe4-91ea-4399-9e8c-6297811343af",
   "metadata": {},
   "source": [
    "To run the application, navigate to the directory containing ecg_app.py in your terminal and execute:\n",
    "\n"
   ]
  },
  {
   "cell_type": "code",
   "execution_count": 2,
   "id": "2abedc55-3b9e-473a-abc1-aa019d9877f7",
   "metadata": {},
   "outputs": [],
   "source": [
    "import streamlit as st\n",
    "import cv2\n",
    "import numpy as np\n",
    "import tensorflow as tf\n",
    "import matplotlib.pyplot as plt\n",
    "from PIL import Image"
   ]
  },
  {
   "cell_type": "code",
   "execution_count": 3,
   "id": "7b7188b2-4af3-4b44-bc39-ce34fb919b55",
   "metadata": {},
   "outputs": [
    {
     "name": "stderr",
     "output_type": "stream",
     "text": [
      "2024-05-19 08:59:25.201 \n",
      "  \u001b[33m\u001b[1mWarning:\u001b[0m to view this Streamlit app on a browser, run it with the following\n",
      "  command:\n",
      "\n",
      "    streamlit run C:\\Users\\Deepak\\anaconda3\\Lib\\site-packages\\ipykernel_launcher.py [ARGUMENTS]\n"
     ]
    }
   ],
   "source": [
    "\n",
    "\n",
    "# Utility functions (preprocess_image, prepare_image_for_model, load_model, predict)\n",
    "\n",
    "def preprocess_image(image_path):\n",
    "    # Load the image\n",
    "    image = cv2.imread(image_path)\n",
    "    original_image = cv2.cvtColor(image, cv2.COLOR_BGR2RGB)\n",
    "    \n",
    "    # Convert to grayscale\n",
    "    gray_image = cv2.cvtColor(image, cv2.COLOR_BGR2GRAY)\n",
    "    \n",
    "    # Apply Gaussian blur\n",
    "    blurred_image = cv2.GaussianBlur(gray_image, (5, 5), 0)\n",
    "    \n",
    "    # Enhance contrast using histogram equalization\n",
    "    equalized_image = cv2.equalizeHist(blurred_image)\n",
    "    \n",
    "    # Detect edges using Canny edge detector\n",
    "    edges = cv2.Canny(equalized_image, 100, 200)\n",
    "    \n",
    "    # Plot the original and processed images\n",
    "    fig, axes = plt.subplots(2, 3, figsize=(10, 8))\n",
    "    axes[0, 0].set_title('Original Image')\n",
    "    axes[0, 0].imshow(original_image)\n",
    "    axes[0, 1].set_title('Grayscale Image')\n",
    "    axes[0, 1].imshow(gray_image, cmap='gray')\n",
    "    axes[0, 2].set_title('Gaussian Blur')\n",
    "    axes[0, 2].imshow(blurred_image, cmap='gray')\n",
    "    axes[1, 0].set_title('Histogram Equalization')\n",
    "    axes[1, 0].imshow(equalized_image, cmap='gray')\n",
    "    axes[1, 1].set_title('Canny Edges')\n",
    "    axes[1, 1].imshow(edges, cmap='gray')\n",
    "    for ax in axes.flatten():\n",
    "        ax.axis('off')\n",
    "    plt.tight_layout()\n",
    "    st.pyplot(fig)\n",
    "    \n",
    "    # Convert processed image to 3-channel format\n",
    "    processed_image = cv2.cvtColor(edges, cv2.COLOR_GRAY2RGB)\n",
    "    return processed_image\n",
    "\n",
    "def prepare_image_for_model(image_array):\n",
    "    image_tensor = np.expand_dims(image_array, axis=0)\n",
    "    image_tensor = np.expand_dims(image_tensor, axis=-1)\n",
    "    return image_tensor\n",
    "\n",
    "def load_model(model_path):\n",
    "    return tf.keras.models.load_model(model_path)\n",
    "\n",
    "def predict(model, image_tensor):\n",
    "    prediction = model.predict(image_tensor)\n",
    "    return np.argmax(prediction, axis=1)[0]\n",
    "\n",
    "# Streamlit app\n",
    "st.title('ECG Image Classification')\n",
    "\n",
    "# Upload image\n",
    "uploaded_file = st.file_uploader(\"Choose an ECG image...\", type=[\"jpg\", \"jpeg\", \"png\"])\n",
    "if uploaded_file is not None:\n",
    "    image = Image.open(uploaded_file)\n",
    "    image_path = f\"uploads/{uploaded_file.name}\"\n",
    "    image.save(image_path)\n",
    "    \n",
    "    # Process and display the image\n",
    "    processed_image = preprocess_image(image_path)\n",
    "    \n",
    "    # Prepare image for model\n",
    "    image_tensor = prepare_image_for_model(processed_image)\n",
    "    \n",
    "    # Load the model and make a prediction\n",
    "    model = load_model('LSTM')  # Ensure this is the correct path to your model\n",
    "    prediction = predict(model, image_tensor)\n",
    "    \n",
    "    class_names = {0: 'Abnormal', 1: 'Covid', 2: 'Normal'}\n",
    "    predicted_class = class_names[prediction]\n",
    "    \n",
    "    st.write(f'Predicted class: {predicted_class}')\n"
   ]
  }
 ],
 "metadata": {
  "kernelspec": {
   "display_name": "Python 3 (ipykernel)",
   "language": "python",
   "name": "python3"
  },
  "language_info": {
   "codemirror_mode": {
    "name": "ipython",
    "version": 3
   },
   "file_extension": ".py",
   "mimetype": "text/x-python",
   "name": "python",
   "nbconvert_exporter": "python",
   "pygments_lexer": "ipython3",
   "version": "3.11.7"
  }
 },
 "nbformat": 4,
 "nbformat_minor": 5
}
